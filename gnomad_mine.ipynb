{
 "metadata": {
  "language_info": {
   "codemirror_mode": {
    "name": "ipython",
    "version": 3
   },
   "file_extension": ".py",
   "mimetype": "text/x-python",
   "name": "python",
   "nbconvert_exporter": "python",
   "pygments_lexer": "ipython3",
   "version": "3.9.0"
  },
  "orig_nbformat": 4,
  "kernelspec": {
   "name": "python3",
   "display_name": "Python 3.9.0 64-bit"
  },
  "interpreter": {
   "hash": "aee8b7b246df8f9039afb4144a1f6fd8d2ca17a180786b69acc140d282b71a49"
  }
 },
 "nbformat": 4,
 "nbformat_minor": 2,
 "cells": [
  {
   "cell_type": "code",
   "execution_count": 1,
   "source": [
    "import os\n",
    "from datetime import datetime, date, time, timezone\n",
    "import openpyxl as xl\n",
    "import numpy as np\n",
    "import pandas as pd\n",
    "import time\n",
    "import webbrowser\n",
    "\n",
    "from selenium import webdriver\n",
    "from selenium.webdriver.chrome.options import Options"
   ],
   "outputs": [],
   "metadata": {}
  },
  {
   "cell_type": "code",
   "execution_count": 2,
   "source": [
    "## Gnomad\n",
    "## Variants to be queried\n",
    "\n",
    "variants = '''Paste below >>>\n",
    "chr5\t150649405\t150649405\tG\tA\n",
    "<<< Paste above'''\n",
    "\n",
    "## Convert pasted string to Gnomad url format\n",
    "\n",
    "var_list_original = variants.split(\"\\n\")[1:-1]\n",
    "var_id_list = []\n",
    "for variant in var_list_original:\n",
    "    chromosome = variant.split(\"\\t\")[0][3:]\n",
    "    location = variant.split(\"\\t\")[1].replace(\",\",\"\")\n",
    "    ref = variant.split(\"\\t\")[3]\n",
    "    alt = variant.split(\"\\t\")[4]\n",
    "    var_id_list.append(chromosome+\"-\"+location+\"-\"+ref+\"-\"+alt)\n",
    "var_id_list\n",
    "\n",
    "## Selenium webdriver options\n",
    "\n",
    "options = Options()\n",
    "options.headless = True\n",
    "options.add_argument(\"--window-size=1920,1200\")\n",
    "\n",
    "DRIVER_PATH = '/usr/local/bin/chromedriver'\n",
    "driver = webdriver.Chrome(options=options, executable_path=DRIVER_PATH)\n",
    "\n",
    "\n",
    "## Fetch data from Gnomad\n",
    "for var_id in var_id_list:\n",
    "    try:\n",
    "        url = 'https://gnomad.broadinstitute.org/variant/'+var_id+'?dataset=gnomad_r3'\n",
    "        driver.get(url)\n",
    "        time.sleep(3)\n",
    "        homozygotes = driver.find_element_by_xpath('//*[@id=\"gnomAD-panel\"]/div/div/table/tfoot/tr/td[3]')\n",
    "        gene = driver.find_element_by_xpath('//*[@id=\"root\"]/div[3]/div[2]/section[4]/div/ol/li/ol/li/h4/a[1]')\n",
    "        af = driver.find_element_by_xpath('//*[@id=\"gnomAD-panel\"]/div/div/table/tfoot/tr/td[4]')\n",
    "        print(url, gene.text, \"Homozygotes\", homozygotes.text, \"AF\", af.text)\n",
    "        #webbrowser.open_new_tab(url)\n",
    "    except:\n",
    "        print(url, \" unable to scrape\") ###, opening in browser...\")\n",
    "        #webbrowser.open_new_tab(url)\n",
    "\n",
    "driver.quit()"
   ],
   "outputs": [
    {
     "output_type": "stream",
     "name": "stdout",
     "text": [
      "https://gnomad.broadinstitute.org/variant/5-150649405-G-A?dataset=gnomad_r3 SYNPO Homozygotes 0 AF 0.000006570\n"
     ]
    }
   ],
   "metadata": {}
  },
  {
   "cell_type": "code",
   "execution_count": 4,
   "source": [
    "## UCSC\n",
    "\n",
    "## Variants to be queried\n",
    "\n",
    "variants = '''Paste below >>>\n",
    "chr6\t20,402,501\t20,402,501\tG\tC\n",
    "chrX\t129,587,023\t129,587,023\tG\tA\n",
    "chr11\t101,583,386\t101,583,386\tC\tA\n",
    "<<< Paste above'''\n",
    "\n",
    "## Selenium webdriver options\n",
    "\n",
    "options = Options()\n",
    "options.headless = True\n",
    "options.add_argument(\"--window-size=1920,1200\")\n",
    "\n",
    "DRIVER_PATH = '/usr/local/bin/chromedriver'\n",
    "driver = webdriver.Chrome(options=options, executable_path=DRIVER_PATH)\n",
    "\n",
    "## Convert pasted string to UCSC url format and open page\n",
    "\n",
    "var_list_original = variants.split(\"\\n\")[1:-1]\n",
    "var_id_list = []\n",
    "for variant in var_list_original:\n",
    "    chromosome = variant.split(\"\\t\")[0][3:]\n",
    "    location = variant.split(\"\\t\")[1].replace(\",\",\"\")\n",
    "    ref = variant.split(\"\\t\")[3]\n",
    "    alt = variant.split(\"\\t\")[4]\n",
    "    url = 'https://genome.ucsc.edu/cgi-bin/hgTracks?db=hg38&lastVirtModeType=default&lastVirtModeExtraState=&virtModeType=default&virtMode=0&nonVirtPosition=&position=chr'+chromosome+'%3A'+location+'%2D'+location\n",
    "    try:\n",
    "        driver.get(url)\n",
    "        time.sleep(1)\n",
    "        webbrowser.open_new_tab(url)\n",
    "    except:\n",
    "        print(\"Unable to scrape: chr\", chromosome, \":\", location, \"-\", location, sep=\"\") ###, opening in browser...\")\n",
    "        webbrowser.open_new_tab(url)\n",
    "var_id_list\n",
    "\n",
    "driver.quit()"
   ],
   "outputs": [],
   "metadata": {}
  },
  {
   "cell_type": "code",
   "execution_count": null,
   "source": [],
   "outputs": [],
   "metadata": {}
  }
 ]
}